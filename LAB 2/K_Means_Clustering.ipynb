{
  "cells": [
    {
      "cell_type": "markdown",
      "metadata": {
        "id": "UpCLYlY07_a1"
      },
      "source": [
        "\n",
        "# Clustering on Country data (with Python)\n",
        "\n",
        "In this notebook, we will explore some of the basic capabilities of Python's **scikit-learn** package for the data science's role to work with classification datasets. For numerical analysis of tabular data, we shall use the Pandas package, which includes specific data types and functions for working with two-dimensional tables of data in Python. The Pandas package offers a more convenient structure to work with data - the DataFrame.\n",
        "\n",
        "*Unsupervised* machine learning techniques involve in training a machine learning model that looks for previously undetected patterns in the data with no pre-existing labels.\n",
        "\n",
        "*Clustering* is a form of unsupervised machine learning in which you train a model to use the features ***x*** = $[x_1, x_2, x_3, ...]$ to detect local clusters of similarity in the data. For example, you could detect the species of an organism given some physical attributes. If these attributes are significantly different, clusters of different species can be detected. Another example is detecting fraudulant activities if these activities if these activities are significantly different from normal activities.\n",
        "\n",
        "In this tutorial, we shall use the Country Dataset, extracted from [kaggle](https://www.kaggle.com/rohan0301/unsupervised-learning-on-country-data). HELP International is an international humanitarian NGO that is committed to fighting poverty and providing the people of backward countries with basic amenities and relief during the time of disasters and natural calamities. HELP International have been able to raise around $ 10 million. Now the CEO of the NGO needs to decide how to use this money strategically and effectively. So, CEO has to make decision to choose the countries that are in the direst need of aid. Hence, your Job as a Data scientist is to categorise the countries using some socio-economic and health factors that determine the overall development of the country. Then you need to suggest the countries which the CEO needs to focus on the most.\n",
        "\n",
        "Contents:\n",
        "- Explore and preprocess data\n",
        "- Train clustering models using **scikit-learn** machine learning models\n",
        "- Save your model and inference new cases.\n",
        "- Appendix 1: Other file formats\n",
        "\n",
        "What you will learn:\n",
        "- Exploring and preprocessing data for training clustering machine learning models.\n",
        "- Explore the different off-the-shelf clustering machine learning models of **scikit-learn**.\n",
        "- Save the trained machine learning model and import it to make new predictions.\n",
        "\n",
        "Source:\n",
        "- [Microsoft's ml-basics tutorials](https://github.com/MicrosoftDocs/ml-basics)\n",
        "- [Pandas documentation](https://pandas.pydata.org/docs/)\n",
        "- [Matplotlib documentation](https://matplotlib.org/3.3.2/contents.html)\n",
        "- [User guide of Scikit-learn](https://scikit-learn.org/stable/user_guide.html)"
      ]
    },
    {
      "cell_type": "markdown",
      "metadata": {
        "id": "b_kqrJQr7_a4"
      },
      "source": [
        "## Explore and preprocess data\n",
        "\n",
        "Let us import the Country Dataset. The dataset is saved in the folder *online-data* in *csv-format*. This is a common data format where the information is delimited using a symbol such as **,** or **;**.\n",
        "\n",
        "To import this data as a Pandas DataFrame into the memory of Python, the **read_csv** method can be used from the Pandas package. In this method, you need to provide which **delimiter** that is used in the dataset and whether a **header** is present. The header can contain schema information what the number of the data represents. More information on Pandas DataFrame can be found in the [Pandas documentation](https://pandas.pydata.org/docs/)."
      ]
    },
    {
      "cell_type": "code",
      "execution_count": null,
      "metadata": {
        "id": "z3155-CW7_a5",
        "outputId": "64bc8e46-2640-4546-d065-d61ffdb718c0"
      },
      "outputs": [
        {
          "data": {
            "text/html": [
              "<div>\n",
              "<style scoped>\n",
              "    .dataframe tbody tr th:only-of-type {\n",
              "        vertical-align: middle;\n",
              "    }\n",
              "\n",
              "    .dataframe tbody tr th {\n",
              "        vertical-align: top;\n",
              "    }\n",
              "\n",
              "    .dataframe thead th {\n",
              "        text-align: right;\n",
              "    }\n",
              "</style>\n",
              "<table border=\"1\" class=\"dataframe\">\n",
              "  <thead>\n",
              "    <tr style=\"text-align: right;\">\n",
              "      <th></th>\n",
              "      <th>country</th>\n",
              "      <th>child_mort</th>\n",
              "      <th>exports</th>\n",
              "      <th>health</th>\n",
              "      <th>imports</th>\n",
              "      <th>income</th>\n",
              "      <th>inflation</th>\n",
              "      <th>life_expec</th>\n",
              "      <th>total_fer</th>\n",
              "      <th>gdpp</th>\n",
              "    </tr>\n",
              "  </thead>\n",
              "  <tbody>\n",
              "    <tr>\n",
              "      <th>0</th>\n",
              "      <td>Afghanistan</td>\n",
              "      <td>90.2</td>\n",
              "      <td>10.0</td>\n",
              "      <td>7.58</td>\n",
              "      <td>44.9</td>\n",
              "      <td>1610</td>\n",
              "      <td>9.44</td>\n",
              "      <td>56.2</td>\n",
              "      <td>5.82</td>\n",
              "      <td>553</td>\n",
              "    </tr>\n",
              "    <tr>\n",
              "      <th>1</th>\n",
              "      <td>Albania</td>\n",
              "      <td>16.6</td>\n",
              "      <td>28.0</td>\n",
              "      <td>6.55</td>\n",
              "      <td>48.6</td>\n",
              "      <td>9930</td>\n",
              "      <td>4.49</td>\n",
              "      <td>76.3</td>\n",
              "      <td>1.65</td>\n",
              "      <td>4090</td>\n",
              "    </tr>\n",
              "    <tr>\n",
              "      <th>2</th>\n",
              "      <td>Algeria</td>\n",
              "      <td>27.3</td>\n",
              "      <td>38.4</td>\n",
              "      <td>4.17</td>\n",
              "      <td>31.4</td>\n",
              "      <td>12900</td>\n",
              "      <td>16.10</td>\n",
              "      <td>76.5</td>\n",
              "      <td>2.89</td>\n",
              "      <td>4460</td>\n",
              "    </tr>\n",
              "    <tr>\n",
              "      <th>3</th>\n",
              "      <td>Angola</td>\n",
              "      <td>119.0</td>\n",
              "      <td>62.3</td>\n",
              "      <td>2.85</td>\n",
              "      <td>42.9</td>\n",
              "      <td>5900</td>\n",
              "      <td>22.40</td>\n",
              "      <td>60.1</td>\n",
              "      <td>6.16</td>\n",
              "      <td>3530</td>\n",
              "    </tr>\n",
              "    <tr>\n",
              "      <th>4</th>\n",
              "      <td>Antigua and Barbuda</td>\n",
              "      <td>10.3</td>\n",
              "      <td>45.5</td>\n",
              "      <td>6.03</td>\n",
              "      <td>58.9</td>\n",
              "      <td>19100</td>\n",
              "      <td>1.44</td>\n",
              "      <td>76.8</td>\n",
              "      <td>2.13</td>\n",
              "      <td>12200</td>\n",
              "    </tr>\n",
              "    <tr>\n",
              "      <th>...</th>\n",
              "      <td>...</td>\n",
              "      <td>...</td>\n",
              "      <td>...</td>\n",
              "      <td>...</td>\n",
              "      <td>...</td>\n",
              "      <td>...</td>\n",
              "      <td>...</td>\n",
              "      <td>...</td>\n",
              "      <td>...</td>\n",
              "      <td>...</td>\n",
              "    </tr>\n",
              "    <tr>\n",
              "      <th>162</th>\n",
              "      <td>Vanuatu</td>\n",
              "      <td>29.2</td>\n",
              "      <td>46.6</td>\n",
              "      <td>5.25</td>\n",
              "      <td>52.7</td>\n",
              "      <td>2950</td>\n",
              "      <td>2.62</td>\n",
              "      <td>63.0</td>\n",
              "      <td>3.50</td>\n",
              "      <td>2970</td>\n",
              "    </tr>\n",
              "    <tr>\n",
              "      <th>163</th>\n",
              "      <td>Venezuela</td>\n",
              "      <td>17.1</td>\n",
              "      <td>28.5</td>\n",
              "      <td>4.91</td>\n",
              "      <td>17.6</td>\n",
              "      <td>16500</td>\n",
              "      <td>45.90</td>\n",
              "      <td>75.4</td>\n",
              "      <td>2.47</td>\n",
              "      <td>13500</td>\n",
              "    </tr>\n",
              "    <tr>\n",
              "      <th>164</th>\n",
              "      <td>Vietnam</td>\n",
              "      <td>23.3</td>\n",
              "      <td>72.0</td>\n",
              "      <td>6.84</td>\n",
              "      <td>80.2</td>\n",
              "      <td>4490</td>\n",
              "      <td>12.10</td>\n",
              "      <td>73.1</td>\n",
              "      <td>1.95</td>\n",
              "      <td>1310</td>\n",
              "    </tr>\n",
              "    <tr>\n",
              "      <th>165</th>\n",
              "      <td>Yemen</td>\n",
              "      <td>56.3</td>\n",
              "      <td>30.0</td>\n",
              "      <td>5.18</td>\n",
              "      <td>34.4</td>\n",
              "      <td>4480</td>\n",
              "      <td>23.60</td>\n",
              "      <td>67.5</td>\n",
              "      <td>4.67</td>\n",
              "      <td>1310</td>\n",
              "    </tr>\n",
              "    <tr>\n",
              "      <th>166</th>\n",
              "      <td>Zambia</td>\n",
              "      <td>83.1</td>\n",
              "      <td>37.0</td>\n",
              "      <td>5.89</td>\n",
              "      <td>30.9</td>\n",
              "      <td>3280</td>\n",
              "      <td>14.00</td>\n",
              "      <td>52.0</td>\n",
              "      <td>5.40</td>\n",
              "      <td>1460</td>\n",
              "    </tr>\n",
              "  </tbody>\n",
              "</table>\n",
              "<p>167 rows × 10 columns</p>\n",
              "</div>"
            ],
            "text/plain": [
              "                 country  child_mort  exports  health  imports  income  \\\n",
              "0            Afghanistan        90.2     10.0    7.58     44.9    1610   \n",
              "1                Albania        16.6     28.0    6.55     48.6    9930   \n",
              "2                Algeria        27.3     38.4    4.17     31.4   12900   \n",
              "3                 Angola       119.0     62.3    2.85     42.9    5900   \n",
              "4    Antigua and Barbuda        10.3     45.5    6.03     58.9   19100   \n",
              "..                   ...         ...      ...     ...      ...     ...   \n",
              "162              Vanuatu        29.2     46.6    5.25     52.7    2950   \n",
              "163            Venezuela        17.1     28.5    4.91     17.6   16500   \n",
              "164              Vietnam        23.3     72.0    6.84     80.2    4490   \n",
              "165                Yemen        56.3     30.0    5.18     34.4    4480   \n",
              "166               Zambia        83.1     37.0    5.89     30.9    3280   \n",
              "\n",
              "     inflation  life_expec  total_fer   gdpp  \n",
              "0         9.44        56.2       5.82    553  \n",
              "1         4.49        76.3       1.65   4090  \n",
              "2        16.10        76.5       2.89   4460  \n",
              "3        22.40        60.1       6.16   3530  \n",
              "4         1.44        76.8       2.13  12200  \n",
              "..         ...         ...        ...    ...  \n",
              "162       2.62        63.0       3.50   2970  \n",
              "163      45.90        75.4       2.47  13500  \n",
              "164      12.10        73.1       1.95   1310  \n",
              "165      23.60        67.5       4.67   1310  \n",
              "166      14.00        52.0       5.40   1460  \n",
              "\n",
              "[167 rows x 10 columns]"
            ]
          },
          "execution_count": 1,
          "metadata": {},
          "output_type": "execute_result"
        }
      ],
      "source": [
        "import pandas as pd\n",
        "\n",
        "# load the training dataset\n",
        "country = pd.read_csv('Country-data.csv', delimiter=',', header='infer')\n",
        "country"
      ]
    },
    {
      "cell_type": "markdown",
      "metadata": {
        "id": "9reGagU27_a7"
      },
      "source": [
        "We observe that we have data on 167 countries and that the first column contains information on which country it is.\n",
        "Also, 9 real-valued features are given:\n",
        "- *child_mort*: Death of children under 5 years of age per 1000 live births.\n",
        "- *exports*: Exports of goods and services per capita. Given as %age of the GDP per capita.\n",
        "- *health*: Total health spending per capita. Given as %age of GDP per capita.\n",
        "- *imports*: Imports of goods and services per capita. Given as %age of the GDP per capita.\n",
        "- *income*: Net income per person.\n",
        "- *inflation*: The measurement of the annual growth rate of the Total GDP.\n",
        "- *life_expec*: The average number of years a new born child would live if the current mortality patterns are to remain the same.\n",
        "- *total_fer*: The number of children that would be born to each woman if the current age-fertility rates remain the same.\n",
        "- *gdpp*: The GDP per capita. Calculated as the Total GDP divided by the total population.\n",
        "\n",
        "Let us descibe the features statistically. This can be done using the **describe** method of the Pandas DataFrame,"
      ]
    },
    {
      "cell_type": "code",
      "execution_count": null,
      "metadata": {
        "id": "pKdsPkQ07_a7",
        "outputId": "6d6b2cc6-fea9-4f5f-fbb6-9df997db04ea"
      },
      "outputs": [
        {
          "data": {
            "text/html": [
              "<div>\n",
              "<style scoped>\n",
              "    .dataframe tbody tr th:only-of-type {\n",
              "        vertical-align: middle;\n",
              "    }\n",
              "\n",
              "    .dataframe tbody tr th {\n",
              "        vertical-align: top;\n",
              "    }\n",
              "\n",
              "    .dataframe thead th {\n",
              "        text-align: right;\n",
              "    }\n",
              "</style>\n",
              "<table border=\"1\" class=\"dataframe\">\n",
              "  <thead>\n",
              "    <tr style=\"text-align: right;\">\n",
              "      <th></th>\n",
              "      <th>child_mort</th>\n",
              "      <th>exports</th>\n",
              "      <th>health</th>\n",
              "      <th>imports</th>\n",
              "      <th>income</th>\n",
              "      <th>inflation</th>\n",
              "      <th>life_expec</th>\n",
              "      <th>total_fer</th>\n",
              "      <th>gdpp</th>\n",
              "    </tr>\n",
              "  </thead>\n",
              "  <tbody>\n",
              "    <tr>\n",
              "      <th>count</th>\n",
              "      <td>167.000000</td>\n",
              "      <td>167.000000</td>\n",
              "      <td>167.000000</td>\n",
              "      <td>167.000000</td>\n",
              "      <td>167.000000</td>\n",
              "      <td>167.000000</td>\n",
              "      <td>167.000000</td>\n",
              "      <td>167.000000</td>\n",
              "      <td>167.000000</td>\n",
              "    </tr>\n",
              "    <tr>\n",
              "      <th>mean</th>\n",
              "      <td>38.270060</td>\n",
              "      <td>41.108976</td>\n",
              "      <td>6.815689</td>\n",
              "      <td>46.890215</td>\n",
              "      <td>17144.688623</td>\n",
              "      <td>7.781832</td>\n",
              "      <td>70.555689</td>\n",
              "      <td>2.947964</td>\n",
              "      <td>12964.155689</td>\n",
              "    </tr>\n",
              "    <tr>\n",
              "      <th>std</th>\n",
              "      <td>40.328931</td>\n",
              "      <td>27.412010</td>\n",
              "      <td>2.746837</td>\n",
              "      <td>24.209589</td>\n",
              "      <td>19278.067698</td>\n",
              "      <td>10.570704</td>\n",
              "      <td>8.893172</td>\n",
              "      <td>1.513848</td>\n",
              "      <td>18328.704809</td>\n",
              "    </tr>\n",
              "    <tr>\n",
              "      <th>min</th>\n",
              "      <td>2.600000</td>\n",
              "      <td>0.109000</td>\n",
              "      <td>1.810000</td>\n",
              "      <td>0.065900</td>\n",
              "      <td>609.000000</td>\n",
              "      <td>-4.210000</td>\n",
              "      <td>32.100000</td>\n",
              "      <td>1.150000</td>\n",
              "      <td>231.000000</td>\n",
              "    </tr>\n",
              "    <tr>\n",
              "      <th>25%</th>\n",
              "      <td>8.250000</td>\n",
              "      <td>23.800000</td>\n",
              "      <td>4.920000</td>\n",
              "      <td>30.200000</td>\n",
              "      <td>3355.000000</td>\n",
              "      <td>1.810000</td>\n",
              "      <td>65.300000</td>\n",
              "      <td>1.795000</td>\n",
              "      <td>1330.000000</td>\n",
              "    </tr>\n",
              "    <tr>\n",
              "      <th>50%</th>\n",
              "      <td>19.300000</td>\n",
              "      <td>35.000000</td>\n",
              "      <td>6.320000</td>\n",
              "      <td>43.300000</td>\n",
              "      <td>9960.000000</td>\n",
              "      <td>5.390000</td>\n",
              "      <td>73.100000</td>\n",
              "      <td>2.410000</td>\n",
              "      <td>4660.000000</td>\n",
              "    </tr>\n",
              "    <tr>\n",
              "      <th>75%</th>\n",
              "      <td>62.100000</td>\n",
              "      <td>51.350000</td>\n",
              "      <td>8.600000</td>\n",
              "      <td>58.750000</td>\n",
              "      <td>22800.000000</td>\n",
              "      <td>10.750000</td>\n",
              "      <td>76.800000</td>\n",
              "      <td>3.880000</td>\n",
              "      <td>14050.000000</td>\n",
              "    </tr>\n",
              "    <tr>\n",
              "      <th>max</th>\n",
              "      <td>208.000000</td>\n",
              "      <td>200.000000</td>\n",
              "      <td>17.900000</td>\n",
              "      <td>174.000000</td>\n",
              "      <td>125000.000000</td>\n",
              "      <td>104.000000</td>\n",
              "      <td>82.800000</td>\n",
              "      <td>7.490000</td>\n",
              "      <td>105000.000000</td>\n",
              "    </tr>\n",
              "  </tbody>\n",
              "</table>\n",
              "</div>"
            ],
            "text/plain": [
              "       child_mort     exports      health     imports         income  \\\n",
              "count  167.000000  167.000000  167.000000  167.000000     167.000000   \n",
              "mean    38.270060   41.108976    6.815689   46.890215   17144.688623   \n",
              "std     40.328931   27.412010    2.746837   24.209589   19278.067698   \n",
              "min      2.600000    0.109000    1.810000    0.065900     609.000000   \n",
              "25%      8.250000   23.800000    4.920000   30.200000    3355.000000   \n",
              "50%     19.300000   35.000000    6.320000   43.300000    9960.000000   \n",
              "75%     62.100000   51.350000    8.600000   58.750000   22800.000000   \n",
              "max    208.000000  200.000000   17.900000  174.000000  125000.000000   \n",
              "\n",
              "        inflation  life_expec   total_fer           gdpp  \n",
              "count  167.000000  167.000000  167.000000     167.000000  \n",
              "mean     7.781832   70.555689    2.947964   12964.155689  \n",
              "std     10.570704    8.893172    1.513848   18328.704809  \n",
              "min     -4.210000   32.100000    1.150000     231.000000  \n",
              "25%      1.810000   65.300000    1.795000    1330.000000  \n",
              "50%      5.390000   73.100000    2.410000    4660.000000  \n",
              "75%     10.750000   76.800000    3.880000   14050.000000  \n",
              "max    104.000000   82.800000    7.490000  105000.000000  "
            ]
          },
          "execution_count": 2,
          "metadata": {},
          "output_type": "execute_result"
        }
      ],
      "source": [
        "country.describe()"
      ]
    },
    {
      "cell_type": "markdown",
      "metadata": {
        "id": "EW9XmMgX7_a8"
      },
      "source": [
        "The first step in any machine learning project is to explore the data that you will use to train a model. The goal of this exploration is to try to understand the relationships between its attributes. This may require some work\n",
        "- to detect and fix issues in the data (such as dealing with missing values, errors, or outlier values),\n",
        "- deriving new feature columns by transforming or combining existing features (a process known as *feature engineering*),\n",
        "- *normalizing* numeric features (values you can measure or count) so they're on a similar scale,\n",
        "- and *encoding* categorical features (values that represent discrete categories) as numeric indicators.\n",
        "\n",
        "For example, we observe that the *income* column of the dataset contains way larger values compared to the *total_fer*. These are also quite different things to compare. To eliminate this so-called *unit dependency*, we shall scale the features using a MinMax scaler. This scaler scales the features to lie between zero and one by considering the maximum and minimum value of the feature. Conceptually,\n",
        "$$scaled\\_feature = \\frac{feature - min(feature)}{max(feature) - min(feature)}.$$\n",
        "\n",
        "For more information, you can consult the [scikit-learn documentation](https://scikit-learn.org/stable/modules/preprocessing.html#standardization-or-mean-removal-and-variance-scaling)."
      ]
    },
    {
      "cell_type": "code",
      "execution_count": null,
      "metadata": {
        "id": "6OYuis3z7_a8",
        "outputId": "53ed9173-8273-4a1f-9101-28491455ee75"
      },
      "outputs": [
        {
          "data": {
            "text/html": [
              "<div>\n",
              "<style scoped>\n",
              "    .dataframe tbody tr th:only-of-type {\n",
              "        vertical-align: middle;\n",
              "    }\n",
              "\n",
              "    .dataframe tbody tr th {\n",
              "        vertical-align: top;\n",
              "    }\n",
              "\n",
              "    .dataframe thead th {\n",
              "        text-align: right;\n",
              "    }\n",
              "</style>\n",
              "<table border=\"1\" class=\"dataframe\">\n",
              "  <thead>\n",
              "    <tr style=\"text-align: right;\">\n",
              "      <th></th>\n",
              "      <th>child_mort</th>\n",
              "      <th>exports</th>\n",
              "      <th>health</th>\n",
              "      <th>imports</th>\n",
              "      <th>income</th>\n",
              "      <th>inflation</th>\n",
              "      <th>life_expec</th>\n",
              "      <th>total_fer</th>\n",
              "      <th>gdpp</th>\n",
              "    </tr>\n",
              "  </thead>\n",
              "  <tbody>\n",
              "    <tr>\n",
              "      <th>count</th>\n",
              "      <td>167.000000</td>\n",
              "      <td>167.000000</td>\n",
              "      <td>167.000000</td>\n",
              "      <td>167.000000</td>\n",
              "      <td>167.000000</td>\n",
              "      <td>167.000000</td>\n",
              "      <td>167.000000</td>\n",
              "      <td>167.000000</td>\n",
              "      <td>167.000000</td>\n",
              "    </tr>\n",
              "    <tr>\n",
              "      <th>mean</th>\n",
              "      <td>0.173661</td>\n",
              "      <td>0.205112</td>\n",
              "      <td>0.311106</td>\n",
              "      <td>0.269207</td>\n",
              "      <td>0.132933</td>\n",
              "      <td>0.110820</td>\n",
              "      <td>0.758495</td>\n",
              "      <td>0.283591</td>\n",
              "      <td>0.121536</td>\n",
              "    </tr>\n",
              "    <tr>\n",
              "      <th>std</th>\n",
              "      <td>0.196343</td>\n",
              "      <td>0.137135</td>\n",
              "      <td>0.170717</td>\n",
              "      <td>0.139188</td>\n",
              "      <td>0.154980</td>\n",
              "      <td>0.097687</td>\n",
              "      <td>0.175408</td>\n",
              "      <td>0.238777</td>\n",
              "      <td>0.174944</td>\n",
              "    </tr>\n",
              "    <tr>\n",
              "      <th>min</th>\n",
              "      <td>0.000000</td>\n",
              "      <td>0.000000</td>\n",
              "      <td>0.000000</td>\n",
              "      <td>0.000000</td>\n",
              "      <td>0.000000</td>\n",
              "      <td>0.000000</td>\n",
              "      <td>0.000000</td>\n",
              "      <td>0.000000</td>\n",
              "      <td>0.000000</td>\n",
              "    </tr>\n",
              "    <tr>\n",
              "      <th>25%</th>\n",
              "      <td>0.027507</td>\n",
              "      <td>0.118520</td>\n",
              "      <td>0.193288</td>\n",
              "      <td>0.173250</td>\n",
              "      <td>0.022076</td>\n",
              "      <td>0.055633</td>\n",
              "      <td>0.654832</td>\n",
              "      <td>0.101735</td>\n",
              "      <td>0.010490</td>\n",
              "    </tr>\n",
              "    <tr>\n",
              "      <th>50%</th>\n",
              "      <td>0.081305</td>\n",
              "      <td>0.174550</td>\n",
              "      <td>0.280298</td>\n",
              "      <td>0.248566</td>\n",
              "      <td>0.075174</td>\n",
              "      <td>0.088716</td>\n",
              "      <td>0.808679</td>\n",
              "      <td>0.198738</td>\n",
              "      <td>0.042274</td>\n",
              "    </tr>\n",
              "    <tr>\n",
              "      <th>75%</th>\n",
              "      <td>0.289679</td>\n",
              "      <td>0.256345</td>\n",
              "      <td>0.422001</td>\n",
              "      <td>0.337393</td>\n",
              "      <td>0.178397</td>\n",
              "      <td>0.138250</td>\n",
              "      <td>0.881657</td>\n",
              "      <td>0.430599</td>\n",
              "      <td>0.131900</td>\n",
              "    </tr>\n",
              "    <tr>\n",
              "      <th>max</th>\n",
              "      <td>1.000000</td>\n",
              "      <td>1.000000</td>\n",
              "      <td>1.000000</td>\n",
              "      <td>1.000000</td>\n",
              "      <td>1.000000</td>\n",
              "      <td>1.000000</td>\n",
              "      <td>1.000000</td>\n",
              "      <td>1.000000</td>\n",
              "      <td>1.000000</td>\n",
              "    </tr>\n",
              "  </tbody>\n",
              "</table>\n",
              "</div>"
            ],
            "text/plain": [
              "       child_mort     exports      health     imports      income   inflation  \\\n",
              "count  167.000000  167.000000  167.000000  167.000000  167.000000  167.000000   \n",
              "mean     0.173661    0.205112    0.311106    0.269207    0.132933    0.110820   \n",
              "std      0.196343    0.137135    0.170717    0.139188    0.154980    0.097687   \n",
              "min      0.000000    0.000000    0.000000    0.000000    0.000000    0.000000   \n",
              "25%      0.027507    0.118520    0.193288    0.173250    0.022076    0.055633   \n",
              "50%      0.081305    0.174550    0.280298    0.248566    0.075174    0.088716   \n",
              "75%      0.289679    0.256345    0.422001    0.337393    0.178397    0.138250   \n",
              "max      1.000000    1.000000    1.000000    1.000000    1.000000    1.000000   \n",
              "\n",
              "       life_expec   total_fer        gdpp  \n",
              "count  167.000000  167.000000  167.000000  \n",
              "mean     0.758495    0.283591    0.121536  \n",
              "std      0.175408    0.238777    0.174944  \n",
              "min      0.000000    0.000000    0.000000  \n",
              "25%      0.654832    0.101735    0.010490  \n",
              "50%      0.808679    0.198738    0.042274  \n",
              "75%      0.881657    0.430599    0.131900  \n",
              "max      1.000000    1.000000    1.000000  "
            ]
          },
          "execution_count": 3,
          "metadata": {},
          "output_type": "execute_result"
        }
      ],
      "source": [
        "from sklearn.preprocessing import MinMaxScaler\n",
        "\n",
        "# Normalize the numeric features so they're on approximately the same scale\n",
        "features = MinMaxScaler().fit_transform(country[country.columns[1::]])\n",
        "features = pd.DataFrame(features, columns = country.columns[1::])\n",
        "features.describe()"
      ]
    },
    {
      "cell_type": "markdown",
      "metadata": {
        "id": "69c0JA837_a9"
      },
      "source": [
        "The intermediate tranformation back to DataFrames was needed because the *MinMaxScaler* returns an array.\n",
        "\n",
        "Now, let us visualize the dataset for local clusters. However, we have 9 features here. To visualize these 9 features on a 2-dimensional (2D) plane (you computer screen), we could use a mathematical technique called *Principal Component Analysis* (PCA) to analyze the relationships between the features and summarize each observation as coordinates for two principal components - in other words, we'll translate the 9-dimensional feature values into 2D coordinates. Then, we plot these 2D points using a scatter plot. This can be done using the **scatter** method of **matplotlib**.\n",
        "\n",
        "For more information, you can consult the [Scikit-learn documentation](https://scikit-learn.org/stable/modules/generated/sklearn.decomposition.PCA.html)."
      ]
    },
    {
      "cell_type": "code",
      "execution_count": null,
      "metadata": {
        "id": "iDHP7cAs7_a9",
        "outputId": "f9276b46-98d0-4077-85ec-c369c3c09f2e"
      },
      "outputs": [
        {
          "data": {
            "image/png": "[encoded data removed]",
            "text/plain": [
              "<Figure size 432x288 with 1 Axes>"
            ]
          },
          "metadata": {
            "needs_background": "light"
          },
          "output_type": "display_data"
        }
      ],
      "source": [
        "from sklearn.decomposition import PCA\n",
        "import matplotlib.pyplot as plt\n",
        "\n",
        "# Get two principal components\n",
        "pca = PCA(n_components=2).fit(features)\n",
        "features_2d = pca.transform(features)\n",
        "\n",
        "# Plot a scatter plot\n",
        "%matplotlib inline\n",
        "plt.scatter(features_2d[:,0],features_2d[:,1])\n",
        "plt.xlabel('Component 1')\n",
        "plt.ylabel('Component 2')\n",
        "plt.title('PCA 2D -- Country Dataset')\n",
        "plt.show()"
      ]
    },
    {
      "cell_type": "markdown",
      "metadata": {
        "id": "6LLmtskG7_a-"
      },
      "source": [
        "We observe that there is one big cluster at the center, but that there are two clusters that deviate from this main cluster. These two clusters can be interpreted as very rich countries or very poor countries."
      ]
    },
    {
      "cell_type": "markdown",
      "metadata": {
        "id": "686DJrVE7_a-"
      },
      "source": [
        "## Train clustering models using **scikit-learn** machine learning models\n",
        "\n",
        "The next step is to use a clustering algorithm of **scikit-learn** to learn a model that assigns a country to a particular cluster. For example, we could use the off-the-shelf *k-means* clustering algorithm to determine this model. Given the number of clusters *k*, the algorithm has the following steps:\n",
        "\n",
        "1. A set of K centroids are randomly chosen.\n",
        "2. Clusters are formed by assigning the data points to their closest centroid.\n",
        "3. The means of each cluster is computed and the centroid is moved to the mean.\n",
        "4. Steps 2 and 3 are repeated until a stopping criteria is met. Typically, the algorithm terminates when each new iteration results in negligable movement of centroids and the clusters become static.\n",
        "5. When the clusters stop changing, the algorithm has *converged*, defining the locations of the clusters - note that the random starting point for the centroids means that re-running the algorithm could result in slightly different clusters, so training usually involves multiple iterations, reinitializing the centroids each time, and the model with the best WCSS is selected.\n",
        "\n",
        "From the observations of the scatter plot, let us take 3 clusters to begin with."
      ]
    },
    {
      "cell_type": "code",
      "execution_count": null,
      "metadata": {
        "id": "b7XnHui97_a-",
        "outputId": "fc7cecfd-99db-426b-9257-f0aea79e561d"
      },
      "outputs": [
        {
          "data": {
            "text/plain": [
              "array([0, 1, 1, 0, 1, 1, 1, 2, 2, 1, 1, 1, 1, 1, 1, 2, 1, 0, 1, 1, 1, 1,\n",
              "       1, 2, 1, 0, 0, 1, 0, 2, 1, 0, 0, 1, 1, 1, 0, 0, 0, 1, 0, 1, 2, 2,\n",
              "       2, 1, 1, 1, 1, 0, 0, 1, 1, 2, 2, 0, 0, 1, 2, 0, 2, 1, 1, 0, 0, 1,\n",
              "       0, 1, 2, 1, 1, 1, 0, 2, 2, 2, 1, 2, 1, 1, 0, 0, 2, 1, 0, 1, 1, 0,\n",
              "       0, 1, 1, 2, 1, 0, 0, 1, 1, 0, 2, 0, 1, 1, 1, 1, 1, 1, 0, 1, 0, 1,\n",
              "       2, 2, 0, 0, 2, 1, 0, 1, 1, 1, 1, 1, 2, 2, 1, 1, 0, 1, 1, 0, 1, 1,\n",
              "       0, 2, 2, 2, 0, 1, 2, 2, 1, 1, 0, 1, 2, 2, 1, 0, 1, 0, 0, 1, 1, 1,\n",
              "       1, 0, 1, 2, 2, 2, 1, 1, 1, 1, 1, 0, 0])"
            ]
          },
          "execution_count": 5,
          "metadata": {},
          "output_type": "execute_result"
        }
      ],
      "source": [
        "from sklearn.cluster import KMeans\n",
        "\n",
        "# Create a model based on 3 centroids\n",
        "n = 3\n",
        "model = KMeans(n_clusters=n, init='k-means++', n_init=100, max_iter=1000)\n",
        "\n",
        "# Fit to the data and predict the cluster assignments for each data point\n",
        "km_clusters = model.fit_predict(features.values)\n",
        "\n",
        "# View the cluster assignments\n",
        "km_clusters"
      ]
    },
    {
      "cell_type": "markdown",
      "metadata": {
        "id": "eXmEaSYk7_a_"
      },
      "source": [
        "> **Remark**: Observe that the k-means clustering is applied on the 9-dimensional feature space, not on the 2-dimensional PCA components.\n",
        "\n",
        "We can plot these assignments in a scatter plot. Like this,"
      ]
    },
    {
      "cell_type": "code",
      "execution_count": null,
      "metadata": {
        "id": "lPybfMl17_a_",
        "outputId": "51a72ab0-7875-429e-ab9b-fb456acd1b63"
      },
      "outputs": [
        {
          "data": {
            "image/png": "[encoded data removed]",
            "text/plain": [
              "<Figure size 432x288 with 1 Axes>"
            ]
          },
          "metadata": {
            "needs_background": "light"
          },
          "output_type": "display_data"
        }
      ],
      "source": [
        "# Scatter plot, but indicating the clusters\n",
        "plt.scatter(features_2d[:, 0], features_2d[:, 1], c=km_clusters, s=50,cmap='viridis')\n",
        "\n",
        "# Extract the centers of the model and project onto the 2D PCA space\n",
        "centers = model.cluster_centers_\n",
        "centers_2d = pca.transform(centers)\n",
        "\n",
        "plt.scatter(centers_2d[:, 0], centers_2d[:, 1], c='red', s=200, alpha=0.5)\n",
        "plt.xlabel('Dimension 1')\n",
        "plt.ylabel('Dimension 2')\n",
        "plt.title('Assignments')\n",
        "plt.show()"
      ]
    },
    {
      "cell_type": "markdown",
      "metadata": {
        "id": "-t_GOqvK7_a_"
      },
      "source": [
        "We could also try for 4 clusters,"
      ]
    },
    {
      "cell_type": "code",
      "execution_count": null,
      "metadata": {
        "id": "FWjvagrp7_a_",
        "outputId": "51ae158a-cd64-4247-ec5e-736a2ea4218e"
      },
      "outputs": [
        {
          "data": {
            "image/png": "[encoded data removed]",
            "text/plain": [
              "<Figure size 432x288 with 1 Axes>"
            ]
          },
          "metadata": {
            "needs_background": "light"
          },
          "output_type": "display_data"
        }
      ],
      "source": [
        "# Create a model based on 4 centroids and plot results\n",
        "n = 4\n",
        "model = KMeans(n_clusters=n, init='k-means++', n_init=100, max_iter=1000)\n",
        "km_clusters = model.fit_predict(features.values)\n",
        "plt.scatter(features_2d[:, 0], features_2d[:, 1], c=km_clusters, s=50,cmap='viridis')\n",
        "centers = model.cluster_centers_\n",
        "centers_2d = pca.transform(centers)\n",
        "\n",
        "plt.scatter(centers_2d[:, 0], centers_2d[:, 1], c='red', s=200, alpha=0.5)\n",
        "plt.xlabel('Dimension 1')\n",
        "plt.ylabel('Dimension 2')\n",
        "plt.title('Assignments')\n",
        "plt.show()"
      ]
    },
    {
      "cell_type": "markdown",
      "metadata": {
        "id": "WkpvTPpp7_bA"
      },
      "source": [
        "We observe that now, there is a new cluster at the far upper-right of the scatter plot. However, other than that, no real differences are observed in the clustering of the countries.\n",
        "\n",
        "Nice, but which cluster correspond to which countries? This can be displayd using the following code cell,"
      ]
    },
    {
      "cell_type": "code",
      "execution_count": null,
      "metadata": {
        "id": "RZqv8hSP7_bA",
        "outputId": "e3df87e6-81d3-41f4-e7d5-f7f7923af77e"
      },
      "outputs": [
        {
          "name": "stdout",
          "output_type": "stream",
          "text": [
            "Cluster 1:\n",
            "['Albania', 'Algeria', 'Antigua and Barbuda', 'Argentina', 'Armenia', 'Azerbaijan', 'Bahamas', 'Bahrain', 'Bangladesh', 'Barbados', 'Belarus', 'Belize', 'Bhutan', 'Bolivia', 'Bosnia and Herzegovina', 'Botswana', 'Brazil', 'Bulgaria', 'Cambodia', 'Cape Verde', 'Chile', 'China', 'Colombia', 'Costa Rica', 'Croatia', 'Czech Republic', 'Dominican Republic', 'Ecuador', 'Egypt', 'El Salvador', 'Estonia', 'Fiji', 'Georgia', 'Grenada', 'Guatemala', 'Guyana', 'Hungary', 'India', 'Indonesia', 'Iran', 'Jamaica', 'Jordan', 'Kazakhstan', 'Kyrgyz Republic', 'Latvia', 'Lebanon', 'Libya', 'Lithuania', 'Macedonia, FYR', 'Malaysia', 'Maldives', 'Mauritius', 'Micronesia, Fed. Sts.', 'Moldova', 'Mongolia', 'Montenegro', 'Morocco', 'Myanmar', 'Nepal', 'Oman', 'Panama', 'Paraguay', 'Peru', 'Philippines', 'Poland', 'Romania', 'Russia', 'Samoa', 'Saudi Arabia', 'Serbia', 'Seychelles', 'Slovak Republic', 'South Africa', 'Sri Lanka', 'St. Vincent and the Grenadines', 'Suriname', 'Tajikistan', 'Thailand', 'Tonga', 'Tunisia', 'Turkey', 'Turkmenistan', 'Ukraine', 'Uruguay', 'Uzbekistan', 'Vanuatu', 'Venezuela', 'Vietnam'] \n",
            "\n",
            "Cluster 2:\n",
            "['Afghanistan', 'Angola', 'Benin', 'Burkina Faso', 'Burundi', 'Cameroon', 'Central African Republic', 'Chad', 'Comoros', 'Congo, Dem. Rep.', 'Congo, Rep.', \"Cote d'Ivoire\", 'Equatorial Guinea', 'Eritrea', 'Gabon', 'Gambia', 'Ghana', 'Guinea', 'Guinea-Bissau', 'Haiti', 'Iraq', 'Kenya', 'Kiribati', 'Lao', 'Lesotho', 'Liberia', 'Madagascar', 'Malawi', 'Mali', 'Mauritania', 'Mozambique', 'Namibia', 'Niger', 'Nigeria', 'Pakistan', 'Rwanda', 'Senegal', 'Sierra Leone', 'Solomon Islands', 'Sudan', 'Tanzania', 'Timor-Leste', 'Togo', 'Uganda', 'Yemen', 'Zambia'] \n",
            "\n",
            "Cluster 3:\n",
            "['Australia', 'Austria', 'Belgium', 'Brunei', 'Canada', 'Cyprus', 'Denmark', 'Finland', 'France', 'Germany', 'Greece', 'Iceland', 'Ireland', 'Israel', 'Italy', 'Japan', 'Kuwait', 'Netherlands', 'New Zealand', 'Norway', 'Portugal', 'Qatar', 'Slovenia', 'South Korea', 'Spain', 'Sweden', 'Switzerland', 'United Arab Emirates', 'United Kingdom', 'United States'] \n",
            "\n",
            "Cluster 4:\n",
            "['Luxembourg', 'Malta', 'Singapore'] \n",
            "\n"
          ]
        }
      ],
      "source": [
        "# Display the countries in each cluster\n",
        "for c in range(0, n):\n",
        "    print(\"Cluster {}:\".format(c+1))\n",
        "    print(country['country'][km_clusters == c].tolist(), '\\n')"
      ]
    },
    {
      "cell_type": "markdown",
      "metadata": {
        "id": "GOEJg46v7_bA"
      },
      "source": [
        "We thus observe that one of the clusters correspond to *very poor countries* and financial aid might be interesting for these countries. This looks already quite promising. However, to observe that there are three clusters is quite arbitrary. How can we determine the number of clusters in the dataset in a more mathematical way?\n",
        "\n",
        "## Clustering metrics\n",
        "\n",
        "One way to determine the number of clusters is to repeat the clustering algorithm on a few cluster numbers and to calculate the *within cluster sum of squares* (WCSS). This is a measure of how tightly the data points are grouped within each cluster."
      ]
    },
    {
      "cell_type": "code",
      "execution_count": null,
      "metadata": {
        "id": "UwEbFKWL7_bA",
        "outputId": "d7f6daff-8d84-4a09-96b4-baffad77b152"
      },
      "outputs": [
        {
          "data": {
            "image/png": "[encoded data removed]",
            "text/plain": [
              "<Figure size 432x288 with 1 Axes>"
            ]
          },
          "metadata": {
            "needs_background": "light"
          },
          "output_type": "display_data"
        }
      ],
      "source": [
        "import numpy as np\n",
        "import matplotlib.pyplot as plt\n",
        "\n",
        "%matplotlib inline\n",
        "\n",
        "# Create 10 models with 1 to 10 clusters\n",
        "wcss = []\n",
        "for i in range(1, 11):\n",
        "    km = KMeans(n_clusters = i)\n",
        "    # Fit the data points\n",
        "    km.fit(features.values)\n",
        "    # Get the WCSS (inertia) value\n",
        "    wcss.append(km.inertia_)\n",
        "\n",
        "# Plot the WCSS values onto a line graph\n",
        "plt.plot(range(1, 11), wcss, marker = \"o\")\n",
        "plt.title('WCSS by Clusters')\n",
        "plt.xlabel('Number of clusters (k)')\n",
        "plt.ylabel('WCSS')\n",
        "plt.show()"
      ]
    },
    {
      "cell_type": "markdown",
      "metadata": {
        "id": "PB3kqdIq7_bC"
      },
      "source": [
        "## Save your model and inference new cases\n",
        "\n",
        "We have tried several clustering algorithms for our clustering dataset. You might have observed that no explicit model is constructed as in the case of *regression* and *classification* machine learning problems: the concept of saving a 'model' for future inference does not make sense in clustering methods as there is no label to predict.\n",
        "\n",
        "However, for the case of kmeans, what you could do is save the information of the centers of the obtained kmeans clustering, and assign new instances to the closest cluster.\n",
        "This can be done like this,"
      ]
    },
    {
      "cell_type": "code",
      "execution_count": null,
      "metadata": {
        "id": "DQe4vq177_bD",
        "outputId": "e89e218f-bef5-4d91-c288-0dc1a6fa9d94"
      },
      "outputs": [
        {
          "name": "stdout",
          "output_type": "stream",
          "text": [
            "Model saved!\n"
          ]
        }
      ],
      "source": [
        "import joblib\n",
        "\n",
        "# Save the model as a pickle file\n",
        "filename = 'kmeans_model.pkl'\n",
        "joblib.dump(model, filename)\n",
        "\n",
        "print(\"Model saved!\")"
      ]
    },
    {
      "cell_type": "markdown",
      "metadata": {
        "id": "C6UsaUXU7_bD"
      },
      "source": [
        "Now, we can load it whenever we need it, and use it to assign to clusters for new data.\n",
        "\n",
        "The scenario might be that measurements of a country has been measured, and we want to assign this new country to one of the clusters determined from the other countries. We do this by assigning this to the closest cluster center. This can be easily done using the **predict** method of the kmeans model."
      ]
    },
    {
      "cell_type": "code",
      "execution_count": null,
      "metadata": {
        "id": "JiR1D0Y37_bD",
        "outputId": "eda49dfd-9265-4349-c5ff-dc55c4f7ff9d"
      },
      "outputs": [
        {
          "name": "stdout",
          "output_type": "stream",
          "text": [
            "New country: [23.3, 72.0, 6.84, 81.2, 4495.0, 12.1, 73.1, 1.95, 1370.0] \n",
            "\n",
            "Assigned cluster: 3 \n",
            "\n"
          ]
        }
      ],
      "source": [
        "import numpy as np\n",
        "\n",
        "# Load the model from the file\n",
        "loaded_model = joblib.load(filename)\n",
        "\n",
        "# Create a numpy array containing the data on measurements of the new country\n",
        "X_new = np.array([[23.3, 72.0, 6.84, 81.2, 4495, 12.10, 73.1, 1.95, 1370]]).astype('float64')\n",
        "print ('New country: {} \\n'.format(list(X_new[0])))\n",
        "\n",
        "# Use the model to assign the cluster\n",
        "result = loaded_model.predict(X_new)\n",
        "print('Assigned cluster: {} \\n'.format(result[0]))"
      ]
    },
    {
      "cell_type": "markdown",
      "metadata": {
        "id": "SPoqnHfx7_bD"
      },
      "source": [
        "## Further Readings\n",
        "\n",
        "Sources:\n",
        "- To learn more about Scikit-Learn, see the [Scikit-Learn documentation](https://scikit-learn.org/stable/user_guide.html).\n",
        "- To learn more about machine learning basics on other datasets, see the [Microsoft's ml-basics tutorials](https://github.com/MicrosoftDocs/ml-basics)."
      ]
    }
  ],
  "metadata": {
    "kernelspec": {
      "display_name": "Python 3",
      "language": "python",
      "name": "python3"
    },
    "language_info": {
      "codemirror_mode": {
        "name": "ipython",
        "version": 3
      },
      "file_extension": ".py",
      "mimetype": "text/x-python",
      "name": "python",
      "nbconvert_exporter": "python",
      "pygments_lexer": "ipython3",
      "version": "3.8.5"
    },
    "colab": {
      "provenance": []
    }
  },
  "nbformat": 4,
  "nbformat_minor": 0
}