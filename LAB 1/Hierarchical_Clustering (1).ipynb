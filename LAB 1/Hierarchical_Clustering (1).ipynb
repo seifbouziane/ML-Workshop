{
  "nbformat": 4,
  "nbformat_minor": 0,
  "metadata": {
    "colab": {
      "provenance": []
    },
    "kernelspec": {
      "name": "python3",
      "display_name": "Python 3"
    },
    "language_info": {
      "name": "python"
    }
  },
  "cells": [
    {
      "cell_type": "markdown",
      "source": [
        "# **Practical Example N°01: Hierarchical Clustering of Anime Series**"
      ],
      "metadata": {
        "id": "d9s6lu766Fe6"
      }
    },
    {
      "cell_type": "code",
      "execution_count": 2,
      "metadata": {
        "id": "yN8DugqRU6Lt"
      },
      "outputs": [],
      "source": [
        "import numpy as np\n",
        "from scipy.spatial.distance import pdist, squareform"
      ]
    },
    {
      "cell_type": "markdown",
      "source": [
        "import numpy as np imports the NumPy library, which is a fundamental package for scientific computing in Python. NumPy provides support for large, multi-dimensional arrays and matrices, along with a large collection of high-level mathematical functions to operate on these arrays.\n",
        "\n",
        "The second line from scipy.spatial.distance import pdist, squareform imports two specific functions (pdist and squareform) from the scipy.spatial.distance module of the SciPy library. SciPy is another popular library for scientific and technical computing in Python.\n",
        "\n",
        "pdist stands for \"pairwise distance.\" This function calculates the pairwise distances between observations (in this case, anime series) in the input data. It returns a condensed distance vector, which is a compressed representation of the distance matrix. We'll use this function to compute the distances between anime series based on their genre representations.\n",
        "squareform is used to convert the condensed distance vector returned by pdist into a square distance matrix. A square distance matrix is often more convenient to work with, especially for applications like hierarchical clustering."
      ],
      "metadata": {
        "id": "hwBnhGrztB_U"
      }
    },
    {
      "cell_type": "code",
      "source": [
        "# Represent the genre data for anime series\n",
        "genre_data = np.array([[1, 1, 1, 0, 0, 0],\n",
        "                       [1, 0, 1, 0, 0, 0],\n",
        "                       [1, 0, 0, 1, 1, 0],\n",
        "                       [0, 0, 1, 1, 1, 1]])"
      ],
      "metadata": {
        "id": "ywuyaFykVEOW"
      },
      "execution_count": 3,
      "outputs": []
    },
    {
      "cell_type": "markdown",
      "source": [
        "This code creates a NumPy array called genre_data that represents the binary genre information for four different anime series. Each row in the array corresponds to one anime series, and each column represents a specific genre."
      ],
      "metadata": {
        "id": "zH4LDMrXu01o"
      }
    },
    {
      "cell_type": "code",
      "source": [
        "#Calculate the distance between each Anime and create the Distance Matrix\n",
        "distance_matrix = squareform(pdist(genre_data, metric='jaccard'))\n",
        "print(distance_matrix)"
      ],
      "metadata": {
        "colab": {
          "base_uri": "https://localhost:8080/"
        },
        "id": "6BYsAdT0VF5o",
        "outputId": "fe5dd2bd-38c8-4db7-9a56-6c14564711fd"
      },
      "execution_count": 4,
      "outputs": [
        {
          "output_type": "stream",
          "name": "stdout",
          "text": [
            "[[0.         0.33333333 0.8        0.83333333]\n",
            " [0.33333333 0.         0.75       0.8       ]\n",
            " [0.8        0.75       0.         0.6       ]\n",
            " [0.83333333 0.8        0.6        0.        ]]\n"
          ]
        }
      ]
    },
    {
      "cell_type": "code",
      "source": [
        "#Import the necessary modules to perform the Hierarchical clustering\n",
        "from scipy.cluster.hierarchy import linkage, dendrogram"
      ],
      "metadata": {
        "id": "JAFgk_HaVJJp"
      },
      "execution_count": 5,
      "outputs": []
    },
    {
      "cell_type": "code",
      "source": [
        "anime_series = ['Bleach', 'Demon Slayer', 'Attack On Titan', 'Parasyte']\n",
        "linkage_matrix = linkage(distance_matrix, method='complete')"
      ],
      "metadata": {
        "colab": {
          "base_uri": "https://localhost:8080/"
        },
        "id": "es7-R7yyVMWf",
        "outputId": "177255d4-57f3-430e-fe26-99cfc30ca937"
      },
      "execution_count": 6,
      "outputs": [
        {
          "output_type": "stream",
          "name": "stderr",
          "text": [
            "<ipython-input-6-19ab48482a29>:2: ClusterWarning: scipy.cluster: The symmetric non-negative hollow observation matrix looks suspiciously like an uncondensed distance matrix\n",
            "  linkage_matrix = linkage(distance_matrix, method='complete')\n"
          ]
        }
      ]
    },
    {
      "cell_type": "markdown",
      "source": [
        "This block of code creates a Python list called anime_series that contains the names of four different anime series: 'Bleach', 'Demon Slayer', 'Attack On Titan', and 'Parasyte'. Then it performs the hierarchical clustering using the linkage function imported from scipy.cluster.hierarchy."
      ],
      "metadata": {
        "id": "9OuGu3un51m4"
      }
    },
    {
      "cell_type": "code",
      "source": [
        "# Plot the dendrogram\n",
        "dendrogram(linkage_matrix, labels=anime_series)"
      ],
      "metadata": {
        "colab": {
          "base_uri": "https://localhost:8080/",
          "height": 660
        },
        "id": "39QjAuQOVPTh",
        "outputId": "7a73e0b9-a316-4827-9526-5ac29c89281c"
      },
      "execution_count": 7,
      "outputs": [
        {
          "output_type": "execute_result",
          "data": {
            "text/plain": [
              "{'icoord': [[5.0, 5.0, 15.0, 15.0],\n",
              "  [25.0, 25.0, 35.0, 35.0],\n",
              "  [10.0, 10.0, 30.0, 30.0]],\n",
              " 'dcoord': [[0.0, 0.4752192476461084, 0.4752192476461084, 0.0],\n",
              "  [0.0, 0.850653343678323, 0.850653343678323, 0.0],\n",
              "  [0.4752192476461084,\n",
              "   1.283225103661344,\n",
              "   1.283225103661344,\n",
              "   0.850653343678323]],\n",
              " 'ivl': ['Bleach', 'Demon Slayer', 'Attack On Titan', 'Parasyte'],\n",
              " 'leaves': [0, 1, 2, 3],\n",
              " 'color_list': ['C1', 'C2', 'C0'],\n",
              " 'leaves_color_list': ['C1', 'C1', 'C2', 'C2']}"
            ]
          },
          "metadata": {},
          "execution_count": 7
        },
        {
          "output_type": "display_data",
          "data": {
            "text/plain": [
              "<Figure size 640x480 with 1 Axes>"
            ],
            "image/png": "[encoded data removed]"
          },
          "metadata": {}
        }
      ]
    },
    {
      "cell_type": "markdown",
      "source": [
        "# **Part 2: Now it's your turn to practice**\n",
        "\n",
        "Create a new anime dataset with more animes and redo the past steps in order to perform the Hierarchical Clustering by completing the #To_Do instructions."
      ],
      "metadata": {
        "id": "CC1DnMCaYy8m"
      }
    },
    {
      "cell_type": "code",
      "source": [
        "# Create\n",
        "new_data = #To_do"
      ],
      "metadata": {
        "id": "e3iyf30cPMzN"
      },
      "execution_count": null,
      "outputs": []
    },
    {
      "cell_type": "code",
      "source": [
        "#Calculate the new distance matrix\n",
        "distance_mat = #To_Do\n",
        "print(distance_mat)"
      ],
      "metadata": {
        "id": "7zmoHYbfPXus"
      },
      "execution_count": null,
      "outputs": []
    },
    {
      "cell_type": "code",
      "source": [
        "#Create the new anime list\n",
        "Animes = #To_Do"
      ],
      "metadata": {
        "id": "JIuKDgaPSmVW"
      },
      "execution_count": null,
      "outputs": []
    },
    {
      "cell_type": "code",
      "source": [
        "#Perform the Hierarchical Clustering\n",
        "linkage = #To_Do"
      ],
      "metadata": {
        "id": "4C1eAXnHT0ow"
      },
      "execution_count": null,
      "outputs": []
    },
    {
      "cell_type": "code",
      "source": [
        "# Plot the dendrogram\n",
        "#To_Do"
      ],
      "metadata": {
        "id": "1wqIpK-8UK4H"
      },
      "execution_count": null,
      "outputs": []
    }
  ]
}